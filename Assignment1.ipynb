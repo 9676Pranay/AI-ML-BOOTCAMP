{
  "nbformat": 4,
  "nbformat_minor": 0,
  "metadata": {
    "colab": {
      "name": "Assignment1.ipynb",
      "provenance": [],
      "authorship_tag": "ABX9TyPd5Fq0WE7P7NbGIRPwhYNr",
      "include_colab_link": true
    },
    "kernelspec": {
      "name": "python3",
      "display_name": "Python 3"
    },
    "language_info": {
      "name": "python"
    }
  },
  "cells": [
    {
      "cell_type": "markdown",
      "metadata": {
        "id": "view-in-github",
        "colab_type": "text"
      },
      "source": [
        "<a href=\"https://colab.research.google.com/github/9676Pranay/AL-ML-BOOTCAMP/blob/main/Assignment1.ipynb\" target=\"_parent\"><img src=\"https://colab.research.google.com/assets/colab-badge.svg\" alt=\"Open In Colab\"/></a>"
      ]
    },
    {
      "cell_type": "markdown",
      "source": [
        "1.Implement the methods of String with examples\n",
        "\n",
        "---\n",
        "\n"
      ],
      "metadata": {
        "id": "zJohKFr73nqz"
      }
    },
    {
      "cell_type": "code",
      "execution_count": null,
      "metadata": {
        "id": "unuypjkCsmAV",
        "colab": {
          "base_uri": "https://localhost:8080/"
        },
        "outputId": "db1db710-bcd1-4ea2-a069-0dd77ece3150"
      },
      "outputs": [
        {
          "output_type": "stream",
          "name": "stdout",
          "text": [
            "WELCOME COME TO AIML BOOT CAMP\n",
            "welcome come to aiml boot camp\n",
            "wELCOME COME TO AIML BOOT CAMP\n",
            "Welcome Come To Aiml Boot Camp\n",
            "Welcome come to aiml boot camp\n"
          ]
        }
      ],
      "source": [
        "#Implement the methods of String with examples\n",
        "my_str=\"Welcome come to aiml boot camp\"\n",
        "print(my_str.upper())\n",
        "print(my_str.lower())\n",
        "print(my_str.swapcase())\n",
        "print(my_str.title())\n",
        "print(my_str.capitalize())"
      ]
    },
    {
      "cell_type": "code",
      "source": [
        "str=\"       my name is pranay      \"\n",
        "print(str.strip())\n",
        "print(str.lstrip())\n",
        "print(str.rstrip())\n"
      ],
      "metadata": {
        "id": "gLHcA3TItS8Q",
        "colab": {
          "base_uri": "https://localhost:8080/"
        },
        "outputId": "ef4e6279-e992-468b-ede2-75aa5de548b8"
      },
      "execution_count": null,
      "outputs": [
        {
          "output_type": "stream",
          "name": "stdout",
          "text": [
            "my name is pranay\n",
            "my name is pranay      \n",
            "       my name is pranay\n"
          ]
        }
      ]
    },
    {
      "cell_type": "markdown",
      "source": [
        "2. Implement the methods of List with examples."
      ],
      "metadata": {
        "id": "c3cReUAS3-BM"
      }
    },
    {
      "cell_type": "code",
      "source": [
        "#Implement the methods of List with examples\n",
        "list=[1,2,3,4,5,6]\n",
        "list.append(7)\n",
        "print(list)\n",
        "list.extend([5,6,7])\n",
        "print(list)\n",
        "list.insert(6,4.0)\n",
        "print(list)\n",
        "del list[3]\n",
        "print(list)\n",
        "del list[0:2]\n",
        "print(list)\n",
        "list.remove(6.0)\n",
        "print(list)\n",
        "list.pop()\n",
        "print(list)\n",
        "list.clear()\n",
        "\n",
        "print(\"list elements:\",list)\n",
        "list1=[5,9.1,96,10,21,70,34,99,5,5]\n",
        "print(list1.count(5))\n",
        "print(len(list1))\n",
        "print(list1[::-1])\n",
        "list1.reverse()\n",
        "print(list1)\n",
        "list1.sort()\n",
        "print(list1)\n",
        "\n",
        "\n"
      ],
      "metadata": {
        "id": "YMExMAE9tUIz",
        "colab": {
          "base_uri": "https://localhost:8080/"
        },
        "outputId": "8d259dec-09d3-4520-ef62-ea728bc4b96b"
      },
      "execution_count": null,
      "outputs": [
        {
          "output_type": "stream",
          "name": "stdout",
          "text": [
            "[1, 2, 3, 4, 5, 6, 7]\n",
            "[1, 2, 3, 4, 5, 6, 7, 5, 6, 7]\n",
            "[1, 2, 3, 4, 5, 6, 4.0, 7, 5, 6, 7]\n",
            "[1, 2, 3, 5, 6, 4.0, 7, 5, 6, 7]\n",
            "[3, 5, 6, 4.0, 7, 5, 6, 7]\n",
            "[3, 5, 4.0, 7, 5, 6, 7]\n",
            "[3, 5, 4.0, 7, 5, 6]\n",
            "list elements: []\n",
            "3\n",
            "10\n",
            "[5, 5, 99, 34, 70, 21, 10, 96, 9.1, 5]\n",
            "[5, 5, 99, 34, 70, 21, 10, 96, 9.1, 5]\n",
            "[5, 5, 5, 9.1, 10, 21, 34, 70, 96, 99]\n"
          ]
        }
      ]
    },
    {
      "cell_type": "markdown",
      "source": [
        "3. Implement the methods of Tuple with examples.\n"
      ],
      "metadata": {
        "id": "RTygEtA14F4L"
      }
    },
    {
      "cell_type": "code",
      "source": [
        "#Implement the methods of Tuple with examples\n",
        "my_tuple=(1,2,3,4)\n",
        "my_tuple1=(\"raju\",\"ramu\",\"somu\",\"srinu\")\n",
        "my_tuple2=(\"22\",\"21\",\"21\",\"22\")\n",
        "#tuple methods\n",
        "print(my_tuple.count(1))\n",
        "print(my_tuple1+my_tuple2)\n",
        "print(my_tuple.index(2))\n",
        "print(max(my_tuple))\n",
        "print(min(my_tuple))\n",
        "print(len(my_tuple))"
      ],
      "metadata": {
        "id": "lixNcLRstULi",
        "colab": {
          "base_uri": "https://localhost:8080/"
        },
        "outputId": "cff17c32-6fb4-49f4-d93b-6b61a9608266"
      },
      "execution_count": null,
      "outputs": [
        {
          "output_type": "stream",
          "name": "stdout",
          "text": [
            "1\n",
            "('raju', 'ramu', 'somu', 'srinu', '22', '21', '21', '22')\n",
            "1\n",
            "4\n",
            "1\n",
            "4\n"
          ]
        }
      ]
    },
    {
      "cell_type": "markdown",
      "source": [
        "4. Implement the methods of Dictionary with examples."
      ],
      "metadata": {
        "id": "6imMZ9iq4Mum"
      }
    },
    {
      "cell_type": "code",
      "source": [
        "#Implement the methods of Dictionary with examples.\n",
        "my_dict={'name':'Pranay','phno':9876543210,'address':'kamalapur'}\n",
        "print(my_dict['name'])\n",
        "print(my_dict.keys())\n",
        "print(my_dict.values())\n",
        "print(my_dict.get('name'))"
      ],
      "metadata": {
        "id": "wUZzm7_ytUOB",
        "colab": {
          "base_uri": "https://localhost:8080/"
        },
        "outputId": "7a27d751-3b63-421b-821e-54cd5a409cd8"
      },
      "execution_count": null,
      "outputs": [
        {
          "output_type": "stream",
          "name": "stdout",
          "text": [
            "Pranay\n",
            "dict_keys(['name', 'phno', 'address'])\n",
            "dict_values(['Pranay', 9876543210, 'kamalapur'])\n",
            "Pranay\n"
          ]
        }
      ]
    },
    {
      "cell_type": "code",
      "source": [
        "a=int(input(\"Enter the required number\"))\n",
        "print(a)\n",
        "b=input(\"enter string\")\n",
        "print(b)\n"
      ],
      "metadata": {
        "id": "Se3lNeNmtUQc",
        "colab": {
          "base_uri": "https://localhost:8080/"
        },
        "outputId": "58ef6482-faf4-48a7-c5c9-b4ae4c265021"
      },
      "execution_count": null,
      "outputs": [
        {
          "output_type": "stream",
          "name": "stdout",
          "text": [
            "Enter the required number23\n",
            "23\n",
            "enter stringpranay\n",
            "pranay\n"
          ]
        }
      ]
    },
    {
      "cell_type": "code",
      "source": [
        "name=input(\"Enter your name\")\n",
        "age=int(input(\"Entert the age\"))\n",
        "study=input(\"Enter your education \")\n",
        "print(name,\"age is\",age,\"Persuing\",study)"
      ],
      "metadata": {
        "id": "uQOUnD7RtUTC",
        "colab": {
          "base_uri": "https://localhost:8080/"
        },
        "outputId": "0a053e71-206c-4305-dd6b-4004acfe5292"
      },
      "execution_count": null,
      "outputs": [
        {
          "output_type": "stream",
          "name": "stdout",
          "text": [
            "Enter your namePranay\n",
            "Entert the age21\n",
            "Enter your education btech\n",
            "Pranay age is 21 Persuing btech\n"
          ]
        }
      ]
    },
    {
      "cell_type": "markdown",
      "source": [
        "5. Implement the methods of Set with examples.\n"
      ],
      "metadata": {
        "id": "3SSBjLqV4T4a"
      }
    },
    {
      "cell_type": "code",
      "source": [
        "#Implement the methods of Set with examples.\n",
        "my_set={1,2,3,4,5,}\n",
        "my_set1={1,2,3,\"hi\",(1,2,3)}\n",
        "list=[1,3,5,7]#convert list into set\n",
        "my_set2=set(list)\n",
        "print(my_set2)\n",
        "my_set.add(2)\n",
        "print(my_set)\n",
        "my_set.update([2,3,4])\n",
        "print(my_set)\n",
        "my_set.discard(3)\n",
        "print(my_set)\n",
        "my_set.remove(4)\n",
        "print(my_set)\n",
        "#set operations\n",
        "a={1,2,3,4,5}\n",
        "b={9,8,7,6,5}\n",
        "#union\n",
        "print(a|b)\n",
        "print(a.union(b))\n",
        "print(b.union(a))\n",
        "#intersection\n",
        "print(a&b)\n",
        "print(a.intersection(b))\n",
        "print(b.intersection(a))\n",
        "#difference\n",
        "print(a-b)\n",
        "print(a.difference(b))\n",
        "print(b-a)\n",
        "print(b.difference(a))"
      ],
      "metadata": {
        "id": "7Mtvfa0PtUVj",
        "colab": {
          "base_uri": "https://localhost:8080/"
        },
        "outputId": "f6e44fb5-ed5c-4ebb-818f-f235cca1596d"
      },
      "execution_count": null,
      "outputs": [
        {
          "output_type": "stream",
          "name": "stdout",
          "text": [
            "{1, 3, 5, 7}\n",
            "{1, 2, 3, 4, 5}\n",
            "{1, 2, 3, 4, 5}\n",
            "{1, 2, 4, 5}\n",
            "{1, 2, 5}\n",
            "{1, 2, 3, 4, 5, 6, 7, 8, 9}\n",
            "{1, 2, 3, 4, 5, 6, 7, 8, 9}\n",
            "{1, 2, 3, 4, 5, 6, 7, 8, 9}\n",
            "{5}\n",
            "{5}\n",
            "{5}\n",
            "{1, 2, 3, 4}\n",
            "{1, 2, 3, 4}\n",
            "{8, 9, 6, 7}\n",
            "{8, 9, 6, 7}\n"
          ]
        }
      ]
    },
    {
      "cell_type": "markdown",
      "source": [
        "6. Write a python program to convert Decimal to Binary, Octal and Hexadecimal with \n",
        "direct method."
      ],
      "metadata": {
        "id": "4mIxry1H4an9"
      }
    },
    {
      "cell_type": "code",
      "source": [
        "#Write a python program to convert Decimal to Binary, Octal and Hexadecimal with direct method\n",
        "dec =int(input(\"Enter the decimal\"))\n",
        "\n",
        "print(\"The decimal value of\", dec, \"is:\")\n",
        "print(bin(dec), \"in binary.\")\n",
        "print(oct(dec), \"in octal.\")\n",
        "print(hex(dec), \"in hexadecimal.\")"
      ],
      "metadata": {
        "colab": {
          "base_uri": "https://localhost:8080/"
        },
        "id": "XcNjANPJC_ic",
        "outputId": "f22580a0-3757-4117-e0e6-17f5ef176b52"
      },
      "execution_count": null,
      "outputs": [
        {
          "output_type": "stream",
          "name": "stdout",
          "text": [
            "Enter the decimal121\n",
            "The decimal value of 121 is:\n",
            "0b1111001 in binary.\n",
            "0o171 in octal.\n",
            "0x79 in hexadecimal.\n"
          ]
        }
      ]
    },
    {
      "cell_type": "markdown",
      "source": [
        "7. Implement Arithmetic operators with examples."
      ],
      "metadata": {
        "id": "YW-FyuuC4gM1"
      }
    },
    {
      "cell_type": "code",
      "source": [
        "#Implement Arithmetic operators with examples\n",
        "print(\"arithmetic operations\\n\")\n",
        "a=22\n",
        "b=33\n",
        "c=a+b\n",
        "d=a-b\n",
        "e=a*b\n",
        "f=a/b\n",
        "g=a//b\n",
        "h=a%b\n",
        "i=a**b\n",
        "print(a)\n",
        "print(b)\n",
        "print(c)\n",
        "print(d)\n",
        "print(e)\n",
        "print(f)\n",
        "print(g)\n",
        "print(h)\n",
        "print(i)"
      ],
      "metadata": {
        "id": "SEEuvvMMtUar",
        "colab": {
          "base_uri": "https://localhost:8080/"
        },
        "outputId": "fe29631b-39ac-4e2e-93e4-77e52f8f3a7e"
      },
      "execution_count": null,
      "outputs": [
        {
          "output_type": "stream",
          "name": "stdout",
          "text": [
            "arithmetic operations\n",
            "\n",
            "22\n",
            "33\n",
            "55\n",
            "-11\n",
            "726\n",
            "0.6666666666666666\n",
            "0\n",
            "22\n",
            "199502557355935975909450298726667414302359552\n"
          ]
        }
      ]
    },
    {
      "cell_type": "markdown",
      "source": [
        "8. Implement Assignment operators with examples.\n"
      ],
      "metadata": {
        "id": "XHJoVIvk4lHu"
      }
    },
    {
      "cell_type": "code",
      "source": [
        "#Implement Assignment operators with examples.\n",
        "print(\"assignmet operations\\n\")\n",
        "a=5\n",
        "b=6\n",
        "c=a+b\n",
        "print(c)\n",
        "c+=a\n",
        "print(c)\n",
        "c-=a\n",
        "print(c)\n",
        "c*=a\n",
        "print(c)\n",
        "c/=a\n",
        "print(c)\n",
        "c%=a\n",
        "print(c)\n",
        "c**=a\n",
        "print(c)"
      ],
      "metadata": {
        "id": "aAnRF7MPtUeO",
        "colab": {
          "base_uri": "https://localhost:8080/"
        },
        "outputId": "74c138d2-00a8-4893-d009-c83b1420c7d8"
      },
      "execution_count": null,
      "outputs": [
        {
          "output_type": "stream",
          "name": "stdout",
          "text": [
            "assignmet operations\n",
            "\n",
            "11\n",
            "16\n",
            "11\n",
            "55\n",
            "11.0\n",
            "1.0\n",
            "1.0\n"
          ]
        }
      ]
    },
    {
      "cell_type": "markdown",
      "source": [
        "9. Implement Comparison operators with examples."
      ],
      "metadata": {
        "id": "LJAVgEzA4rCK"
      }
    },
    {
      "cell_type": "code",
      "source": [
        "#Implement Comparison operators with examples\n",
        "print(\"comparision operations\\n\")\n",
        "a=2\n",
        "b=3\n",
        "print(a==b)\n",
        "print(a!=b)\n",
        "print(a>b)\n",
        "print(a<b)\n",
        "print(a>=b)\n",
        "print(a<=b)"
      ],
      "metadata": {
        "id": "5KgZrZyWtUkd",
        "colab": {
          "base_uri": "https://localhost:8080/"
        },
        "outputId": "46b9bc9c-f62b-481c-d722-7dfe932d4bae"
      },
      "execution_count": null,
      "outputs": [
        {
          "output_type": "stream",
          "name": "stdout",
          "text": [
            "comparision operations\n",
            "\n",
            "False\n",
            "True\n",
            "False\n",
            "True\n",
            "False\n",
            "True\n"
          ]
        }
      ]
    },
    {
      "cell_type": "markdown",
      "source": [
        "10. Implement Logical operators with examples."
      ],
      "metadata": {
        "id": "lptn3Y6m4wLq"
      }
    },
    {
      "cell_type": "code",
      "source": [
        "#Implement Logical operators with examples\n",
        "print(\"logical operations\\n\")\n",
        "x=True\n",
        "y=False\n",
        "print(\"x and y is\",x and y)\n",
        "print(\"x or y is\",x or y)\n",
        "print(\"x not is\",not x)"
      ],
      "metadata": {
        "id": "JAfKrE28tUnS",
        "colab": {
          "base_uri": "https://localhost:8080/"
        },
        "outputId": "4052db78-3d9a-4ae2-916f-5a25c818308b"
      },
      "execution_count": null,
      "outputs": [
        {
          "output_type": "stream",
          "name": "stdout",
          "text": [
            "logical operations\n",
            "\n",
            "x and y is False\n",
            "x or y is True\n",
            "x not is False\n"
          ]
        }
      ]
    },
    {
      "cell_type": "markdown",
      "source": [
        "11. Implement Bitwise operators with examples."
      ],
      "metadata": {
        "id": "KUI3Ko8V40DT"
      }
    },
    {
      "cell_type": "code",
      "source": [
        "#Implement Bitwise operators with examples.\n",
        "print(\"bitwise operations\\n\")  \n",
        "a=2\n",
        "b=3\n",
        "print(a&b)#AND\n",
        "print(a^b)#XOR\n",
        "print(a|b)#OR\n",
        "print(~a)\n",
        "print(a>>2)#right shift\n",
        "print(a<<4)#left shift\n"
      ],
      "metadata": {
        "id": "RVdjjsE3tUq2",
        "colab": {
          "base_uri": "https://localhost:8080/"
        },
        "outputId": "00be028e-442b-4f27-b8b3-d0f6358842f9"
      },
      "execution_count": null,
      "outputs": [
        {
          "output_type": "stream",
          "name": "stdout",
          "text": [
            "bitwise operations\n",
            "\n",
            "2\n",
            "1\n",
            "3\n",
            "-3\n",
            "0\n",
            "32\n"
          ]
        }
      ]
    },
    {
      "cell_type": "markdown",
      "source": [
        "12. Implement Membership operators with examples."
      ],
      "metadata": {
        "id": "OGS76xHx46Hr"
      }
    },
    {
      "cell_type": "code",
      "source": [
        "# Implement Membership operators with examples\n",
        "print(\"membership operations\\n\")\n",
        "x=\"Hello World\"\n",
        "y={1:'a',2:'b'}\n",
        "print('H' in x)\n",
        "print('e'in x)\n",
        "print('z' in x)\n",
        "print(1 in y)\n",
        "print('a'in y)\n"
      ],
      "metadata": {
        "id": "Q1yKhHdGuCl6",
        "colab": {
          "base_uri": "https://localhost:8080/"
        },
        "outputId": "83adec99-f080-46e0-97ff-dd5f922e43c5"
      },
      "execution_count": null,
      "outputs": [
        {
          "output_type": "stream",
          "name": "stdout",
          "text": [
            "membership operations\n",
            "\n",
            "True\n",
            "True\n",
            "False\n",
            "True\n",
            "False\n"
          ]
        }
      ]
    },
    {
      "cell_type": "markdown",
      "source": [
        "13. Implement Identity operators with examples\n"
      ],
      "metadata": {
        "id": "yzArhAZG4-D2"
      }
    },
    {
      "cell_type": "code",
      "source": [
        "#Implement Identity operators with examples\n",
        "x1=5\n",
        "y1=5\n",
        "x2=\"Hello\"\n",
        "y2=\"Hello\"\n",
        "x3=[1,2,3]\n",
        "y3=[1,2,4]\n",
        "print(x1 is not y1)\n",
        "print(x1 is y1)\n",
        "print(x3 is x2)\n",
        "print(x3 is y3)"
      ],
      "metadata": {
        "colab": {
          "base_uri": "https://localhost:8080/"
        },
        "id": "X6EbQvGOuCxz",
        "outputId": "83a7d94b-11e4-4f99-b59e-be6b393e6131"
      },
      "execution_count": null,
      "outputs": [
        {
          "output_type": "stream",
          "name": "stdout",
          "text": [
            "False\n",
            "True\n",
            "False\n",
            "False\n"
          ]
        }
      ]
    },
    {
      "cell_type": "markdown",
      "source": [
        "14. Demonstrate Negative indexing for List and apply slicing."
      ],
      "metadata": {
        "id": "Ay4cooyp5DbD"
      }
    },
    {
      "cell_type": "code",
      "source": [
        "#Demonstrate Negative indexing for List and apply slicing\n",
        "str=\"Welcome come to aiml boot camp\"\n",
        "studentdetails=['name','age','address','mail','phno']\n",
        "print(\"--indexing--\")\n",
        "print(studentdetails[-1])\n",
        "print(studentdetails[-2])\n",
        "print(studentdetails[-3])\n",
        "print(studentdetails[-4])\n",
        "print(str[0])\n",
        "print(str[-1])\n",
        "print(\"\\n\")\n",
        "print(\"--slicing--\")\n",
        "print(str[:])#entire string is printed\n",
        "print(str[1:])\n",
        "print(str[:4])\n",
        "print(str[-7:-1])\n",
        "print(str[4:-1])\n",
        "print(str[0:8:2])#alternate 2 elements\n",
        "print(\"--reverse a string--\")\n",
        "print(str[::-1])"
      ],
      "metadata": {
        "colab": {
          "base_uri": "https://localhost:8080/",
          "height": 0
        },
        "id": "gxAusRUKuDBB",
        "outputId": "be565bf4-33ec-49b2-ef7c-c519bd74e5d4"
      },
      "execution_count": 6,
      "outputs": [
        {
          "output_type": "stream",
          "name": "stdout",
          "text": [
            "--indexing--\n",
            "phno\n",
            "mail\n",
            "address\n",
            "age\n",
            "W\n",
            "p\n",
            "\n",
            "\n",
            "--slicing--\n",
            "Welcome come to aiml boot camp\n",
            "elcome come to aiml boot camp\n",
            "Welc\n",
            "ot cam\n",
            "ome come to aiml boot cam\n",
            "Wloe\n",
            "--reverse a string--\n",
            "pmac toob lmia ot emoc emocleW\n"
          ]
        }
      ]
    },
    {
      "cell_type": "markdown",
      "source": [
        "15. Predict the output for the given code snippet and justify the result."
      ],
      "metadata": {
        "id": "jjmXlowx5mPX"
      }
    },
    {
      "cell_type": "code",
      "source": [
        "print('A series of characters designated as one object known as a string'[::-1][4::3])\n",
        "print(\"----------\")\n",
        "print('Welcome to python training program'[3:10][::-1])\n"
      ],
      "metadata": {
        "colab": {
          "base_uri": "https://localhost:8080/",
          "height": 0
        },
        "id": "A6X72--dRxzn",
        "outputId": "fc8f665d-f8ce-47ed-b9a1-8bece2822460"
      },
      "execution_count": 2,
      "outputs": [
        {
          "output_type": "stream",
          "name": "stdout",
          "text": [
            "taawkcbe  tgestrcoeeA\n",
            "----------\n",
            "ot emoc\n"
          ]
        }
      ]
    },
    {
      "cell_type": "markdown",
      "source": [
        "16. Write a python code to get desired output"
      ],
      "metadata": {
        "id": "NIYz-_sn5tmf"
      }
    },
    {
      "cell_type": "code",
      "source": [
        "#Write a python code to get desired output\n",
        "p_phrase=\"was it a car or a cat I saw\"\n",
        "str=p_phrase.upper()\n",
        "print(str[:3:]+\" \"+str[4:5:]+\" \"+str[5:6:]+str[7:8:]+str[9:10:]+\" \"+str[10:11:]+\" \"+str[11:12:]+str[13:14]+\" \"+str[14:15]+str[16:17:]+str[18:19:]+\" \"+str[19:20:]+\" \"+str[20:21:]+str[22:23:]+\" \"+str[24::])"
      ],
      "metadata": {
        "colab": {
          "base_uri": "https://localhost:8080/",
          "height": 0
        },
        "id": "q7eZ101uSvAe",
        "outputId": "91fbd452-5faf-4788-c641-ea442ab1062e"
      },
      "execution_count": 5,
      "outputs": [
        {
          "output_type": "stream",
          "name": "stdout",
          "text": [
            "WAS I TAC A RO RAC A TI SAW\n"
          ]
        }
      ]
    },
    {
      "cell_type": "markdown",
      "source": [
        "17. You are required to generate a word similar to ZOO, X and Y that denote the number \n",
        "of Zs and Os respectively. The generated word similar to ZOO where Y= 2 * X. \n",
        " Input X= 2 Output ZZOOOO \n",
        " Input X= 5 Output ZZZZZOOOOOOOOOO"
      ],
      "metadata": {
        "id": "gc8yIxcw5yiA"
      }
    },
    {
      "cell_type": "code",
      "source": [
        "#Predict the output for the given code snippet and justify the result.\n",
        "#You are required to generate a word similar to ZOO, X and Y that denote the number \n",
        "#of Zs and Os respectively. The generated word similar to ZOO where Y= 2 * X. \n",
        " #Input X= 2 Output ZZOOOO \n",
        " #Input X= 5 Output ZZZZZOOOOOOOOOO\n",
        "x=int(input(\"length of x\"))\n",
        "a=('Z'*x)\n",
        "#print(a)\n",
        "y=len(a)\n",
        "z=2*y\n",
        "y=('O'*z)\n",
        "#print(y)\n",
        "print(a+y)\n"
      ],
      "metadata": {
        "id": "hY6SzGU6zzWN",
        "colab": {
          "base_uri": "https://localhost:8080/"
        },
        "outputId": "8b1967b3-8173-4c37-961b-a956330311b2"
      },
      "execution_count": null,
      "outputs": [
        {
          "output_type": "stream",
          "name": "stdout",
          "text": [
            "length of x5\n",
            "ZZZZZOOOOOOOOOO\n"
          ]
        }
      ]
    }
  ]
}